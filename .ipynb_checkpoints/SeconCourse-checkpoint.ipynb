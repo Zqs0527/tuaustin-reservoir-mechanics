{
 "cells": [
  {
   "cell_type": "code",
   "execution_count": 1,
   "id": "f2064228",
   "metadata": {},
   "outputs": [],
   "source": [
    "import numpy as np"
   ]
  },
  {
   "cell_type": "code",
   "execution_count": 3,
   "id": "91ade7f0",
   "metadata": {},
   "outputs": [],
   "source": [
    "def compute_Sg(S, angles=(0,0,0)):\n",
    "    alpha, beta, gamma = bp.radians(angles)\n",
    "    R_g = np.array([[np.cos(alpha) * np.cos(beta),np.sin(alpha) * np.cos(beta),-np.sin(beta)],\n",
    "                [np.cos(alpha) * np.sin(beta) * np.sin(gamma) - np.sin(alpha) * np.cos(gamma),np.sin(alpha) * np.sin(beta) * np.sin(gamma) + np.cos(alpha) * np.cos(gamma),np.cos(beta) * np.sin(gamma)],\n",
    "                [np.cos(alpha) * np.sin(beta) * np.cos(gamma) + np.sin(alpha) * np.sin(gamma),np.sin(alpha) * np.sin(beta) * np.cos(gamma) - np.cos(alpha) * np.sin(gamma),np.cos(beta) * np.cos(gamma)]])\n",
    "    return np.dot(R_g.T, np.dot(S, R_g))"
   ]
  },
  {
   "cell_type": "code",
   "execution_count": null,
   "id": "ea48d965",
   "metadata": {},
   "outputs": [],
   "source": []
  }
 ],
 "metadata": {
  "kernelspec": {
   "display_name": "reservoirgeomechanics",
   "language": "python",
   "name": "reservoirgeomechanics"
  },
  "language_info": {
   "codemirror_mode": {
    "name": "ipython",
    "version": 3
   },
   "file_extension": ".py",
   "mimetype": "text/x-python",
   "name": "python",
   "nbconvert_exporter": "python",
   "pygments_lexer": "ipython3",
   "version": "3.7.10"
  }
 },
 "nbformat": 4,
 "nbformat_minor": 5
}
