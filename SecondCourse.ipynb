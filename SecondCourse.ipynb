{
 "cells": [
  {
   "cell_type": "code",
   "execution_count": 1,
   "id": "0d290e08",
   "metadata": {},
   "outputs": [],
   "source": [
    "import numpy as np"
   ]
  },
  {
   "cell_type": "code",
   "execution_count": 52,
   "id": "a8ba116f",
   "metadata": {},
   "outputs": [],
   "source": [
    "def compute_Sg(S, angles=(0,0,0)):\n",
    "    alpha, beta, gamma = np.radians(angles)\n",
    "    R_g = np.array([[np.cos(alpha) * np.cos(beta),np.sin(alpha) * np.cos(beta),-np.sin(beta)],\n",
    "                [np.cos(alpha) * np.sin(beta) * np.sin(gamma) - np.sin(alpha) * np.cos(gamma),np.sin(alpha) * np.sin(beta) * np.sin(gamma) + np.cos(alpha) * np.cos(gamma),np.cos(beta) * np.sin(gamma)],\n",
    "                [np.cos(alpha) * np.sin(beta) * np.cos(gamma) + np.sin(alpha) * np.sin(gamma),np.sin(alpha) * np.sin(beta) * np.cos(gamma) - np.cos(alpha) * np.sin(gamma),np.cos(beta) * np.cos(gamma)]])\n",
    "    return np.dot(R_g.T, np.dot(S, R_g))\n",
    "\n",
    "def compute_Sb(S, angles_G=(0,0,0), angles_B=(0,0)):\n",
    "    delta, phi = np.radians(angles_B)\n",
    "    \n",
    "    Rb = np.array([[np.cos(delta) * np.cos(phi), np.sin(delta) * np.cos(phi), np.sin(phi)],\n",
    "                  [np.sin(delta), np.cos(delta), 0.0],\n",
    "                  [np.cos(delta) * np.sin(phi), np.sin(delta) * np.sin(phi), np.cos(phi)]])\n",
    "    \n",
    "    Sg = compute_Sg(S, angles_G)\n",
    "    \n",
    "    return np.dot(Rb, np.dot(Sg, Rb.T))\n",
    "\n",
    "def compute_wellbore_stress(sb_eff, nu, theta, delta_p):\n",
    "    theta = np.radians(theta)\n",
    "    sZZ = S[2,2] - 2.0 * nu * (S[0,0] - S[1,1]) * np.cos(2 * theta) - 4.0 * nu * S[0,1] * np.sin(2.0 * theta)\n",
    "    stt = S[0,0] + S[1,1] - 2.0 * (S[0,0] - S[1,1]) * np.cos(2.0 * theta) - 4.0 * S[0,1] * np.sin(2.0 * theta) - delta_p\n",
    "    ttz = 2.0 * (S[1,2] * np.cos(theta) - S[0,2] * np.sin(theta))\n",
    "    srr = delta_p\n",
    "    \n",
    "    return (sZZ, stt, ttz, srr)\n",
    "\n",
    "def compute_max_tangent_stress(Sb_eff, nu, theta, delta_p):\n",
    "    sZZ, stt, ttz, srr = compute_wellbore_stress(Sb_eff, nu, theta, delta_p)\n",
    "    \n",
    "    return 0.5 * (sZZ + stt + np.sqrt((sZZ-stt)**2+4*ttz**2))\n",
    "\n",
    "def compute_min_tangent_stress(Sb_eff, nu, theta, delta_p):\n",
    "    sZZ, stt, ttz, srr = compute_wellbore_stress(Sb_eff, nu, theta, delta_p)\n",
    "    \n",
    "    return 0.5 * (sZZ + stt - np.sqrt((sZZ-stt)**2+4*ttz**2))"
   ]
  },
  {
   "cell_type": "code",
   "execution_count": 47,
   "id": "a487825a",
   "metadata": {},
   "outputs": [],
   "source": [
    "S = np.array([[30,0,0],\n",
    "              [0,25,0],\n",
    "              [0,0,20]])"
   ]
  },
  {
   "cell_type": "code",
   "execution_count": 53,
   "id": "fd22fcfa",
   "metadata": {},
   "outputs": [],
   "source": [
    "Sb = compute_Sb(S, angles_G=(90,0,0),angles_B=(20,20))"
   ]
  },
  {
   "cell_type": "code",
   "execution_count": 54,
   "id": "ef7de00b",
   "metadata": {},
   "outputs": [],
   "source": [
    "Sb_eff = Sb - 20*np.eye(3)"
   ]
  },
  {
   "cell_type": "code",
   "execution_count": 55,
   "id": "1f3d8658",
   "metadata": {},
   "outputs": [],
   "source": [
    "smin = compute_min_tangent_stress(Sb_eff, 0.2,0.0,20)"
   ]
  },
  {
   "cell_type": "code",
   "execution_count": 56,
   "id": "410d8047",
   "metadata": {},
   "outputs": [
    {
     "data": {
      "text/plain": [
       "18.0"
      ]
     },
     "execution_count": 56,
     "metadata": {},
     "output_type": "execute_result"
    }
   ],
   "source": [
    "smin"
   ]
  },
  {
   "cell_type": "code",
   "execution_count": 57,
   "id": "d7f874a1",
   "metadata": {},
   "outputs": [],
   "source": [
    "smax = compute_max_tangent_stress(Sb_eff, 0.2,0.0,20)"
   ]
  },
  {
   "cell_type": "code",
   "execution_count": 58,
   "id": "710067ac",
   "metadata": {},
   "outputs": [
    {
     "data": {
      "text/plain": [
       "25.0"
      ]
     },
     "execution_count": 58,
     "metadata": {},
     "output_type": "execute_result"
    }
   ],
   "source": [
    "smax"
   ]
  },
  {
   "cell_type": "code",
   "execution_count": 59,
   "id": "9ad2cd26",
   "metadata": {},
   "outputs": [],
   "source": [
    "theta = np.linspace(0, 360, num=100)"
   ]
  },
  {
   "cell_type": "code",
   "execution_count": 60,
   "id": "b91af569",
   "metadata": {},
   "outputs": [],
   "source": [
    "smax = [compute_max_tangent_stress(Sb_eff, 0.2,i,20) for i in theta]"
   ]
  },
  {
   "cell_type": "code",
   "execution_count": 61,
   "id": "c97d2061",
   "metadata": {},
   "outputs": [],
   "source": [
    "%matplotlib inline\n",
    "import matplotlib.pyplot as plt"
   ]
  },
  {
   "cell_type": "code",
   "execution_count": 62,
   "id": "642f21a8",
   "metadata": {},
   "outputs": [
    {
     "data": {
      "text/plain": [
       "[<matplotlib.lines.Line2D at 0x42b9e48>]"
      ]
     },
     "execution_count": 62,
     "metadata": {},
     "output_type": "execute_result"
    },
    {
     "data": {
      "image/png": "[encoded data removed]",
      "text/plain": [
       "<Figure size 432x288 with 1 Axes>"
      ]
     },
     "metadata": {
      "needs_background": "light"
     },
     "output_type": "display_data"
    }
   ],
   "source": [
    "plt.plot(theta, smax)"
   ]
  },
  {
   "cell_type": "code",
   "execution_count": null,
   "id": "a82c59e2",
   "metadata": {},
   "outputs": [],
   "source": []
  }
 ],
 "metadata": {
  "kernelspec": {
   "display_name": "reservoirgeomechanics",
   "language": "python",
   "name": "reservoirgeomechanics"
  },
  "language_info": {
   "codemirror_mode": {
    "name": "ipython",
    "version": 3
   },
   "file_extension": ".py",
   "mimetype": "text/x-python",
   "name": "python",
   "nbconvert_exporter": "python",
   "pygments_lexer": "ipython3",
   "version": "3.7.10"
  }
 },
 "nbformat": 4,
 "nbformat_minor": 5
}
