{
 "cells": [
  {
   "cell_type": "code",
   "execution_count": 1,
   "id": "76ba2cce",
   "metadata": {},
   "outputs": [],
   "source": [
    "import numpy as np"
   ]
  },
  {
   "cell_type": "code",
   "execution_count": 6,
   "id": "b5a44990",
   "metadata": {},
   "outputs": [],
   "source": [
    "def compute_Sg(S, angles=(0,0,0)):\n",
    "    alpha, beta, gamma = np.radians(angles)\n",
    "    R_g = np.array([[np.cos(alpha) * np.cos(beta),np.sin(alpha) * np.cos(beta),-np.sin(beta)],\n",
    "                [np.cos(alpha) * np.sin(beta) * np.sin(gamma) - np.sin(alpha) * np.cos(gamma),np.sin(alpha) * np.sin(beta) * np.sin(gamma) + np.cos(alpha) * np.cos(gamma),np.cos(beta) * np.sin(gamma)],\n",
    "                [np.cos(alpha) * np.sin(beta) * np.cos(gamma) + np.sin(alpha) * np.sin(gamma),np.sin(alpha) * np.sin(beta) * np.cos(gamma) - np.cos(alpha) * np.sin(gamma),np.cos(beta) * np.cos(gamma)]])\n",
    "    return np.dot(R_g.T, np.dot(S, R_g))"
   ]
  },
  {
   "cell_type": "code",
   "execution_count": 9,
   "id": "bb1d7606",
   "metadata": {},
   "outputs": [],
   "source": [
    "def compute_Sb(S, angles_G=(0,0,0), angles_B=(0,0)):\n",
    "    delta, phi = np.radians(angles_B)\n",
    "    \n",
    "    Rb = np.array([[np.cos(delta) * np.cos(phi), np.sin(delta) * np.cos(phi), np.sin(phi)],\n",
    "                  [np.sin(delta), np.cos(delta), 0.0],\n",
    "                  [np.cos(delta) * np.sin(phi), np.sin(delta) * np.sin(phi), np.cos(phi)]])\n",
    "    \n",
    "    Sg = compute_Sg(S, angle_G)\n",
    "    \n",
    "    return np.dot(Rb, np.dot(Sg, Rb.T))"
   ]
  },
  {
   "cell_type": "code",
   "execution_count": 10,
   "id": "a70ab775",
   "metadata": {},
   "outputs": [],
   "source": [
    "def compute_wellbore_stress(sb_eff, nu, theta, delta_p):\n",
    "    theta = np.radians(theta)\n",
    "    sZZ = S[2,2] - 2.0 * (s[0,0] - S[1,1]) * np.cos(2 * theta) - 4.0 * nu * S[0,1] * np.sin(2.0 * theta)\n",
    "    stt = S[0,0] + S[1,1] - 2.0 * (s[0,0] - S[1,1]) * np.cos(2 * theta) - 4.0 * S[0,1] * np.sin(2.0 * theta) - delta_p\n",
    "    ttz = 2.0 * (S[1,2] * np.cos(theta) - S[0,2] * np.sin(theta))\n",
    "    srr = delta_p\n",
    "    \n",
    "    return (sZZ, stt, ttz, srr)"
   ]
  },
  {
   "cell_type": "code",
   "execution_count": 11,
   "id": "a93434d4",
   "metadata": {},
   "outputs": [],
   "source": [
    "def compute_min_tangent_stress(Sb_eff, nu, theta, delta_p):\n",
    "    sZZ, stt, ttz, srr = compute_wellbore_stress(sb_eff, nu, theta, delta_p)\n",
    "    \n",
    "    return 0.5 * (sZZ + stt + np.sqrt((sZZ-stt)**2+4*ttz**2))"
   ]
  },
  {
   "cell_type": "code",
   "execution_count": 8,
   "id": "c5c20190",
   "metadata": {},
   "outputs": [
    {
     "data": {
      "text/plain": [
       "array([[ 2.000000e+01,  0.000000e+00, -6.123234e-16],\n",
       "       [ 0.000000e+00,  2.500000e+01,  0.000000e+00],\n",
       "       [-6.123234e-16,  0.000000e+00,  3.000000e+01]])"
      ]
     },
     "execution_count": 8,
     "metadata": {},
     "output_type": "execute_result"
    }
   ],
   "source": [
    "S = np.array([[30,0,0],\n",
    "              [0,25,0],\n",
    "              [0,0,20]])\n",
    "angles = (0,90,0)\n",
    "compute_Sg(S, angles)"
   ]
  },
  {
   "cell_type": "code",
   "execution_count": null,
   "id": "0010e751",
   "metadata": {},
   "outputs": [],
   "source": []
  }
 ],
 "metadata": {
  "kernelspec": {
   "display_name": "reservoirgeomechanics",
   "language": "python",
   "name": "reservoirgeomechanics"
  },
  "language_info": {
   "codemirror_mode": {
    "name": "ipython",
    "version": 3
   },
   "file_extension": ".py",
   "mimetype": "text/x-python",
   "name": "python",
   "nbconvert_exporter": "python",
   "pygments_lexer": "ipython3",
   "version": "3.7.10"
  }
 },
 "nbformat": 4,
 "nbformat_minor": 5
}
